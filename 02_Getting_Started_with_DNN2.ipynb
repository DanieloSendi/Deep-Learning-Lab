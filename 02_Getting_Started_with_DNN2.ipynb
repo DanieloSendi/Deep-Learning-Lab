{
  "nbformat": 4,
  "nbformat_minor": 0,
  "metadata": {
    "colab": {
      "provenance": [],
      "gpuType": "V28",
      "authorship_tag": "ABX9TyPJuub/nXx8Y4gpFHlcGig4",
      "include_colab_link": true
    },
    "kernelspec": {
      "name": "python3",
      "display_name": "Python 3"
    },
    "language_info": {
      "name": "python"
    },
    "accelerator": "TPU"
  },
  "cells": [
    {
      "cell_type": "markdown",
      "metadata": {
        "id": "view-in-github",
        "colab_type": "text"
      },
      "source": [
        "<a href=\"https://colab.research.google.com/github/DanieloSendi/Deep-Learning-Labs/blob/main/02_Getting_Started_with_DNN2.ipynb\" target=\"_parent\"><img src=\"https://colab.research.google.com/assets/colab-badge.svg\" alt=\"Open In Colab\"/></a>"
      ]
    },
    {
      "cell_type": "markdown",
      "source": [
        "# **Simple DNN 2 - Binary classification, Hyperparameters, Callbacks**\n",
        "***"
      ],
      "metadata": {
        "id": "SwDvv8704rT-"
      }
    },
    {
      "cell_type": "markdown",
      "source": [
        "## **Part 1 Binary classification problem**"
      ],
      "metadata": {
        "id": "CqOanGMDeYlT"
      }
    },
    {
      "cell_type": "markdown",
      "source": [
        "Two-class classification, or binary classification, may be the most widely applied kind of machine learning problem. The aim of this lab is to classify movie reviews into “positive” reviews and “negative” reviews, just based on the text content of the reviews."
      ],
      "metadata": {
        "id": "htDAOJuKqvIF"
      }
    },
    {
      "cell_type": "markdown",
      "source": [
        "### 1. Import libraries"
      ],
      "metadata": {
        "id": "hDOcQYzgq3az"
      }
    },
    {
      "cell_type": "code",
      "source": [
        "from tensorflow import keras\n",
        "from tensorflow.keras.datasets import imdb\n",
        "import tensorflow as tf\n",
        "from keras import models, layers\n",
        "from sklearn.model_selection import train_test_split\n",
        "import numpy as np\n",
        "import matplotlib.pyplot as plt"
      ],
      "metadata": {
        "id": "yiahp8dhq3NQ"
      },
      "execution_count": null,
      "outputs": []
    },
    {
      "cell_type": "code",
      "source": [
        "!pip install scikeras -q\n",
        "\n",
        "from sklearn.model_selection import GridSearchCV\n",
        "# from keras.wrappers.scikit_learn import KerasClassifier\n",
        "from scikeras.wrappers import KerasClassifier\n",
        "# in Google Colab you may need to use !pip install scikeras\n",
        "# in a block before for it to work properly."
      ],
      "metadata": {
        "id": "gTqfwHuy4Om3"
      },
      "execution_count": null,
      "outputs": []
    },
    {
      "cell_type": "code",
      "source": [
        "!pip install keras-tuner --upgrade -q\n",
        "import keras_tuner"
      ],
      "metadata": {
        "colab": {
          "base_uri": "https://localhost:8080/"
        },
        "id": "s1O_u33P4TO1",
        "outputId": "f4a827a8-a3be-4516-fb82-ded4e63cb51e"
      },
      "execution_count": null,
      "outputs": [
        {
          "output_type": "stream",
          "name": "stdout",
          "text": [
            "\u001b[?25l   \u001b[90m━━━━━━━━━━━━━━━━━━━━━━━━━━━━━━━━━━━━━━━━\u001b[0m \u001b[32m0.0/129.1 kB\u001b[0m \u001b[31m?\u001b[0m eta \u001b[36m-:--:--\u001b[0m\r\u001b[2K   \u001b[90m━━━━━━━━━━━━━━━━━━━━━━━━━━━━━━━━━━━━━━━━\u001b[0m \u001b[32m129.1/129.1 kB\u001b[0m \u001b[31m3.8 MB/s\u001b[0m eta \u001b[36m0:00:00\u001b[0m\n",
            "\u001b[?25h"
          ]
        }
      ]
    },
    {
      "cell_type": "markdown",
      "source": [
        "### 2. Load the IMDB dataset from Keras"
      ],
      "metadata": {
        "id": "hpeuK5ylb7E3"
      }
    },
    {
      "cell_type": "markdown",
      "source": [
        "We'll be working with the “IMDB dataset”, a set of 50,000 highly-polarized reviews from the Internet Movie Database. They are split into 25,000 reviews for training and 25,000 reviews for testing, each set consisting of 50% negative and 50% positive reviews. Just like the MNIST dataset, the IMDB dataset comes packaged with Keras. It has already been preprocessed: the reviews (sequences of words) have been turned into sequences of integers, where each integer stands for a specific word in a dictionary."
      ],
      "metadata": {
        "id": "8aA_dKnYrNmc"
      }
    },
    {
      "cell_type": "code",
      "execution_count": null,
      "metadata": {
        "id": "hHrT9_iaT2tt",
        "colab": {
          "base_uri": "https://localhost:8080/"
        },
        "outputId": "8709ac4a-19a5-45ec-b722-3e5dc4dab2d7"
      },
      "outputs": [
        {
          "output_type": "stream",
          "name": "stdout",
          "text": [
            "Downloading data from https://storage.googleapis.com/tensorflow/tf-keras-datasets/imdb.npz\n",
            "\u001b[1m17464789/17464789\u001b[0m \u001b[32m━━━━━━━━━━━━━━━━━━━━\u001b[0m\u001b[37m\u001b[0m \u001b[1m0s\u001b[0m 0us/step\n"
          ]
        }
      ],
      "source": [
        "(train_data, train_labels), (test_data, test_labels) = imdb.load_data(num_words=10000)"
      ]
    },
    {
      "cell_type": "markdown",
      "source": [
        " The argument `num_word`=10000 means that we will only keep the top 10,000 most frequently occurring words in the training data. Rare words will be discarded. This allows us to work with vector data of manageable size."
      ],
      "metadata": {
        "id": "Lyr7Pb4J3z45"
      }
    },
    {
      "cell_type": "markdown",
      "source": [
        "### 3. Preparing the data"
      ],
      "metadata": {
        "id": "wWK7qrOEcjYx"
      }
    },
    {
      "cell_type": "markdown",
      "source": [
        "We cannot feed lists of integers into a neural network. We have to turn our lists into tensors. There are two ways we could do that:\n",
        "\n",
        "- We could pad our lists so that they all have the same length, and turn them into an integer tensor of shape (samples, word_indices), then use as the first layer in our network a layer capable of handling such integer tensors (the Embedding layer, which we will cover in detail later in the book).\n",
        "\n",
        "- We could one-hot-encode our lists to turn them into vectors of 0s and 1s. Concretely, this would mean for instance turning the sequence [3, 5] into a 10,000-dimensional vector that would be all-zeros except for indices 3 and 5, which would be ones. Then we could use as the first layer in our network a Dense layer, capable of handling floating-point vector data."
      ],
      "metadata": {
        "id": "IEtmZBVbrunm"
      }
    },
    {
      "cell_type": "markdown",
      "source": [
        "Decide to implement the second solution:"
      ],
      "metadata": {
        "id": "ZhgSvWN6sFrq"
      }
    },
    {
      "cell_type": "code",
      "source": [
        "def vectorize_sequences(sequences, dimension=10000):\n",
        "    # Create an all-zero matrix of shape (len(sequences), dimension)\n",
        "    results = np.zeros((len(sequences), dimension))\n",
        "    for i, sequence in enumerate(sequences):\n",
        "        # set specific indices of results[i] to 1s\n",
        "        results[i, sequence] = 1.\n",
        "    return results\n",
        "\n",
        "x_train = vectorize_sequences(train_data)\n",
        "x_test = vectorize_sequences(test_data)\n",
        "y_train = np.asarray(train_labels).astype('float32')\n",
        "y_test = np.asarray(test_labels).astype('float32')"
      ],
      "metadata": {
        "id": "9C2uozPmdIhv"
      },
      "execution_count": null,
      "outputs": []
    },
    {
      "cell_type": "markdown",
      "source": [
        "### 4. Network architecture"
      ],
      "metadata": {
        "id": "CWNjG3b1tHTq"
      }
    },
    {
      "cell_type": "markdown",
      "source": [
        "Based on the previous ex. please implement a deep network architecture shown in the following Figure:\n",
        "\n",
        "![image.png](data:image/png;base64,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)"
      ],
      "metadata": {
        "id": "yJM_dkWGdfVX"
      }
    },
    {
      "cell_type": "markdown",
      "source": [
        "Implementation of the following architecture:\n",
        "\n",
        "- Two intermediate layers with 16 hidden units each, and a third layer which will output the scalar prediction regarding the sentiment of the current review.\n",
        "- The intermediate layers will use relu as their “activation function”, and the final layer will use a <ins>`sigmoid`</ins> activation so as to output a probability (a score between 0 and 1, indicating how likely the sample is to have the target “1”, i.e. how likely the review is to be positive).\n",
        "- A relu (rectified linear unit) is a function meant to zero-out negative values, while a sigmoid “squashes” arbitrary values into the [0, 1] interval, thus outputting something that can be interpreted as a probability."
      ],
      "metadata": {
        "id": "38DUPXLAuHqR"
      }
    },
    {
      "cell_type": "code",
      "source": [
        "model = models.Sequential()\n",
        "\n",
        "model.add(layers.Dense(units=16, activation='relu', input_shape=(10000,)))\n",
        "model.add(layers.Dense(units=16, activation='relu'))\n",
        "model.add(layers.Dense(units=1, activation='sigmoid'))"
      ],
      "metadata": {
        "id": "aSSCoCcqd0jT",
        "colab": {
          "base_uri": "https://localhost:8080/"
        },
        "outputId": "ec67a986-47dc-4abc-c2a6-515494a6db3f"
      },
      "execution_count": null,
      "outputs": [
        {
          "output_type": "stream",
          "name": "stderr",
          "text": [
            "/usr/local/lib/python3.10/dist-packages/keras/src/layers/core/dense.py:87: UserWarning: Do not pass an `input_shape`/`input_dim` argument to a layer. When using Sequential models, prefer using an `Input(shape)` object as the first layer in the model instead.\n",
            "  super().__init__(activity_regularizer=activity_regularizer, **kwargs)\n"
          ]
        }
      ]
    },
    {
      "cell_type": "markdown",
      "source": [
        "### 5. Network training"
      ],
      "metadata": {
        "id": "A3rnKys9d3qv"
      }
    },
    {
      "cell_type": "markdown",
      "source": [
        "Since we are facing a binary classification problem and the output of our network is a probability (we end our network with a single-unit layer with a sigmoid activation), is it best to use the `binary_crossentropy` loss. It isn't the only viable choice: you could use, for instance, mean_squared_error. But `crossentropy` is usually the best choice when you are dealing with models that output probabilities. Crossentropy is a quantity from the field of Information Theory, that measures the “distance” between probability distributions, or in our case, between the ground-truth distribution and our predictions.\n",
        "\n",
        "To configure the model please use the following parameters:\n",
        "- `rmsprop` optimizer\n",
        "- `binary_crossentropy` loss function\n",
        "- `accuracy` metric"
      ],
      "metadata": {
        "id": "pJGNeoGXu2rR"
      }
    },
    {
      "cell_type": "code",
      "source": [
        "model.compile(optimizer='rmsprop',\n",
        "                loss='binary_crossentropy',\n",
        "                metrics=['accuracy'])\n",
        "\n",
        "model.summary()"
      ],
      "metadata": {
        "colab": {
          "base_uri": "https://localhost:8080/",
          "height": 225
        },
        "id": "rJmyVjJzeEMV",
        "outputId": "469e5dce-2a81-46e4-d3e3-0a3bd703d73d"
      },
      "execution_count": null,
      "outputs": [
        {
          "output_type": "display_data",
          "data": {
            "text/plain": [
              "\u001b[1mModel: \"sequential\"\u001b[0m\n"
            ],
            "text/html": [
              "<pre style=\"white-space:pre;overflow-x:auto;line-height:normal;font-family:Menlo,'DejaVu Sans Mono',consolas,'Courier New',monospace\"><span style=\"font-weight: bold\">Model: \"sequential\"</span>\n",
              "</pre>\n"
            ]
          },
          "metadata": {}
        },
        {
          "output_type": "display_data",
          "data": {
            "text/plain": [
              "┏━━━━━━━━━━━━━━━━━━━━━━━━━━━━━━━━━━━━━━┳━━━━━━━━━━━━━━━━━━━━━━━━━━━━━┳━━━━━━━━━━━━━━━━━┓\n",
              "┃\u001b[1m \u001b[0m\u001b[1mLayer (type)                        \u001b[0m\u001b[1m \u001b[0m┃\u001b[1m \u001b[0m\u001b[1mOutput Shape               \u001b[0m\u001b[1m \u001b[0m┃\u001b[1m \u001b[0m\u001b[1m        Param #\u001b[0m\u001b[1m \u001b[0m┃\n",
              "┡━━━━━━━━━━━━━━━━━━━━━━━━━━━━━━━━━━━━━━╇━━━━━━━━━━━━━━━━━━━━━━━━━━━━━╇━━━━━━━━━━━━━━━━━┩\n",
              "│ dense (\u001b[38;5;33mDense\u001b[0m)                        │ (\u001b[38;5;45mNone\u001b[0m, \u001b[38;5;34m16\u001b[0m)                  │         \u001b[38;5;34m160,016\u001b[0m │\n",
              "├──────────────────────────────────────┼─────────────────────────────┼─────────────────┤\n",
              "│ dense_1 (\u001b[38;5;33mDense\u001b[0m)                      │ (\u001b[38;5;45mNone\u001b[0m, \u001b[38;5;34m16\u001b[0m)                  │             \u001b[38;5;34m272\u001b[0m │\n",
              "├──────────────────────────────────────┼─────────────────────────────┼─────────────────┤\n",
              "│ dense_2 (\u001b[38;5;33mDense\u001b[0m)                      │ (\u001b[38;5;45mNone\u001b[0m, \u001b[38;5;34m1\u001b[0m)                   │              \u001b[38;5;34m17\u001b[0m │\n",
              "└──────────────────────────────────────┴─────────────────────────────┴─────────────────┘\n"
            ],
            "text/html": [
              "<pre style=\"white-space:pre;overflow-x:auto;line-height:normal;font-family:Menlo,'DejaVu Sans Mono',consolas,'Courier New',monospace\">┏━━━━━━━━━━━━━━━━━━━━━━━━━━━━━━━━━━━━━━┳━━━━━━━━━━━━━━━━━━━━━━━━━━━━━┳━━━━━━━━━━━━━━━━━┓\n",
              "┃<span style=\"font-weight: bold\"> Layer (type)                         </span>┃<span style=\"font-weight: bold\"> Output Shape                </span>┃<span style=\"font-weight: bold\">         Param # </span>┃\n",
              "┡━━━━━━━━━━━━━━━━━━━━━━━━━━━━━━━━━━━━━━╇━━━━━━━━━━━━━━━━━━━━━━━━━━━━━╇━━━━━━━━━━━━━━━━━┩\n",
              "│ dense (<span style=\"color: #0087ff; text-decoration-color: #0087ff\">Dense</span>)                        │ (<span style=\"color: #00d7ff; text-decoration-color: #00d7ff\">None</span>, <span style=\"color: #00af00; text-decoration-color: #00af00\">16</span>)                  │         <span style=\"color: #00af00; text-decoration-color: #00af00\">160,016</span> │\n",
              "├──────────────────────────────────────┼─────────────────────────────┼─────────────────┤\n",
              "│ dense_1 (<span style=\"color: #0087ff; text-decoration-color: #0087ff\">Dense</span>)                      │ (<span style=\"color: #00d7ff; text-decoration-color: #00d7ff\">None</span>, <span style=\"color: #00af00; text-decoration-color: #00af00\">16</span>)                  │             <span style=\"color: #00af00; text-decoration-color: #00af00\">272</span> │\n",
              "├──────────────────────────────────────┼─────────────────────────────┼─────────────────┤\n",
              "│ dense_2 (<span style=\"color: #0087ff; text-decoration-color: #0087ff\">Dense</span>)                      │ (<span style=\"color: #00d7ff; text-decoration-color: #00d7ff\">None</span>, <span style=\"color: #00af00; text-decoration-color: #00af00\">1</span>)                   │              <span style=\"color: #00af00; text-decoration-color: #00af00\">17</span> │\n",
              "└──────────────────────────────────────┴─────────────────────────────┴─────────────────┘\n",
              "</pre>\n"
            ]
          },
          "metadata": {}
        },
        {
          "output_type": "display_data",
          "data": {
            "text/plain": [
              "\u001b[1m Total params: \u001b[0m\u001b[38;5;34m160,305\u001b[0m (626.19 KB)\n"
            ],
            "text/html": [
              "<pre style=\"white-space:pre;overflow-x:auto;line-height:normal;font-family:Menlo,'DejaVu Sans Mono',consolas,'Courier New',monospace\"><span style=\"font-weight: bold\"> Total params: </span><span style=\"color: #00af00; text-decoration-color: #00af00\">160,305</span> (626.19 KB)\n",
              "</pre>\n"
            ]
          },
          "metadata": {}
        },
        {
          "output_type": "display_data",
          "data": {
            "text/plain": [
              "\u001b[1m Trainable params: \u001b[0m\u001b[38;5;34m160,305\u001b[0m (626.19 KB)\n"
            ],
            "text/html": [
              "<pre style=\"white-space:pre;overflow-x:auto;line-height:normal;font-family:Menlo,'DejaVu Sans Mono',consolas,'Courier New',monospace\"><span style=\"font-weight: bold\"> Trainable params: </span><span style=\"color: #00af00; text-decoration-color: #00af00\">160,305</span> (626.19 KB)\n",
              "</pre>\n"
            ]
          },
          "metadata": {}
        },
        {
          "output_type": "display_data",
          "data": {
            "text/plain": [
              "\u001b[1m Non-trainable params: \u001b[0m\u001b[38;5;34m0\u001b[0m (0.00 B)\n"
            ],
            "text/html": [
              "<pre style=\"white-space:pre;overflow-x:auto;line-height:normal;font-family:Menlo,'DejaVu Sans Mono',consolas,'Courier New',monospace\"><span style=\"font-weight: bold\"> Non-trainable params: </span><span style=\"color: #00af00; text-decoration-color: #00af00\">0</span> (0.00 B)\n",
              "</pre>\n"
            ]
          },
          "metadata": {}
        }
      ]
    },
    {
      "cell_type": "markdown",
      "source": [
        "### 6. Validation"
      ],
      "metadata": {
        "id": "as7obVD-eFlY"
      }
    },
    {
      "cell_type": "markdown",
      "source": [
        "In order to monitor during training the accuracy of the model on data that it has never seen before, we will create a “validation set” by setting apart 10,000 samples from the original data (suggested split: 25000 train, 10000 validation, 15000 test). You can do it manually or use `train_test_split` from `sklearn` library:"
      ],
      "metadata": {
        "id": "FBAIfij8vRBN"
      }
    },
    {
      "cell_type": "code",
      "source": [
        "# we'll split the x_train and y_train to create the validation set.\n",
        "x_train, x_val, y_train, y_val = train_test_split(x_train, y_train, test_size=10000, random_state=42)\n"
      ],
      "metadata": {
        "id": "4qXyvkoIeK4n"
      },
      "execution_count": null,
      "outputs": []
    },
    {
      "cell_type": "markdown",
      "source": [
        "### 7. Train the model"
      ],
      "metadata": {
        "id": "tmunh7Hjvc5b"
      }
    },
    {
      "cell_type": "markdown",
      "source": [
        "Train the model with following parameters:\n",
        "- x_train, y_train -remained\n",
        "- epochs - 20\n",
        "- batch_size - 512\n",
        "- validation_data=(x_val, y_val)"
      ],
      "metadata": {
        "id": "JXzqQH2HeNuT"
      }
    },
    {
      "cell_type": "code",
      "source": [
        "history = model.fit(x_train, y_train, epochs=20, batch_size=512, validation_data=(x_val, y_val))\n"
      ],
      "metadata": {
        "colab": {
          "base_uri": "https://localhost:8080/"
        },
        "id": "ZehdcpgveTxl",
        "outputId": "c43d2076-8d83-4da7-a708-1279bfbb80b3"
      },
      "execution_count": null,
      "outputs": [
        {
          "output_type": "stream",
          "name": "stdout",
          "text": [
            "Epoch 1/20\n",
            "\u001b[1m30/30\u001b[0m \u001b[32m━━━━━━━━━━━━━━━━━━━━\u001b[0m\u001b[37m\u001b[0m \u001b[1m7s\u001b[0m 107ms/step - accuracy: 0.6790 - loss: 0.6126 - val_accuracy: 0.8502 - val_loss: 0.4209\n",
            "Epoch 2/20\n",
            "\u001b[1m30/30\u001b[0m \u001b[32m━━━━━━━━━━━━━━━━━━━━\u001b[0m\u001b[37m\u001b[0m \u001b[1m4s\u001b[0m 63ms/step - accuracy: 0.8898 - loss: 0.3584 - val_accuracy: 0.8704 - val_loss: 0.3353\n",
            "Epoch 3/20\n",
            "\u001b[1m30/30\u001b[0m \u001b[32m━━━━━━━━━━━━━━━━━━━━\u001b[0m\u001b[37m\u001b[0m \u001b[1m3s\u001b[0m 77ms/step - accuracy: 0.9243 - loss: 0.2498 - val_accuracy: 0.8855 - val_loss: 0.2926\n",
            "Epoch 4/20\n",
            "\u001b[1m30/30\u001b[0m \u001b[32m━━━━━━━━━━━━━━━━━━━━\u001b[0m\u001b[37m\u001b[0m \u001b[1m5s\u001b[0m 87ms/step - accuracy: 0.9370 - loss: 0.2007 - val_accuracy: 0.8853 - val_loss: 0.2861\n",
            "Epoch 5/20\n",
            "\u001b[1m30/30\u001b[0m \u001b[32m━━━━━━━━━━━━━━━━━━━━\u001b[0m\u001b[37m\u001b[0m \u001b[1m4s\u001b[0m 46ms/step - accuracy: 0.9476 - loss: 0.1679 - val_accuracy: 0.8846 - val_loss: 0.2897\n",
            "Epoch 6/20\n",
            "\u001b[1m30/30\u001b[0m \u001b[32m━━━━━━━━━━━━━━━━━━━━\u001b[0m\u001b[37m\u001b[0m \u001b[1m2s\u001b[0m 41ms/step - accuracy: 0.9572 - loss: 0.1416 - val_accuracy: 0.8813 - val_loss: 0.2928\n",
            "Epoch 7/20\n",
            "\u001b[1m30/30\u001b[0m \u001b[32m━━━━━━━━━━━━━━━━━━━━\u001b[0m\u001b[37m\u001b[0m \u001b[1m3s\u001b[0m 46ms/step - accuracy: 0.9642 - loss: 0.1202 - val_accuracy: 0.8792 - val_loss: 0.3121\n",
            "Epoch 8/20\n",
            "\u001b[1m30/30\u001b[0m \u001b[32m━━━━━━━━━━━━━━━━━━━━\u001b[0m\u001b[37m\u001b[0m \u001b[1m3s\u001b[0m 61ms/step - accuracy: 0.9709 - loss: 0.1027 - val_accuracy: 0.8768 - val_loss: 0.3211\n",
            "Epoch 9/20\n",
            "\u001b[1m30/30\u001b[0m \u001b[32m━━━━━━━━━━━━━━━━━━━━\u001b[0m\u001b[37m\u001b[0m \u001b[1m2s\u001b[0m 44ms/step - accuracy: 0.9737 - loss: 0.0903 - val_accuracy: 0.8731 - val_loss: 0.3471\n",
            "Epoch 10/20\n",
            "\u001b[1m30/30\u001b[0m \u001b[32m━━━━━━━━━━━━━━━━━━━━\u001b[0m\u001b[37m\u001b[0m \u001b[1m3s\u001b[0m 43ms/step - accuracy: 0.9761 - loss: 0.0808 - val_accuracy: 0.8722 - val_loss: 0.3587\n",
            "Epoch 11/20\n",
            "\u001b[1m30/30\u001b[0m \u001b[32m━━━━━━━━━━━━━━━━━━━━\u001b[0m\u001b[37m\u001b[0m \u001b[1m1s\u001b[0m 36ms/step - accuracy: 0.9844 - loss: 0.0659 - val_accuracy: 0.8722 - val_loss: 0.3730\n",
            "Epoch 12/20\n",
            "\u001b[1m30/30\u001b[0m \u001b[32m━━━━━━━━━━━━━━━━━━━━\u001b[0m\u001b[37m\u001b[0m \u001b[1m1s\u001b[0m 36ms/step - accuracy: 0.9862 - loss: 0.0576 - val_accuracy: 0.8707 - val_loss: 0.3924\n",
            "Epoch 13/20\n",
            "\u001b[1m30/30\u001b[0m \u001b[32m━━━━━━━━━━━━━━━━━━━━\u001b[0m\u001b[37m\u001b[0m \u001b[1m1s\u001b[0m 47ms/step - accuracy: 0.9910 - loss: 0.0443 - val_accuracy: 0.8696 - val_loss: 0.4142\n",
            "Epoch 14/20\n",
            "\u001b[1m30/30\u001b[0m \u001b[32m━━━━━━━━━━━━━━━━━━━━\u001b[0m\u001b[37m\u001b[0m \u001b[1m1s\u001b[0m 42ms/step - accuracy: 0.9934 - loss: 0.0377 - val_accuracy: 0.8697 - val_loss: 0.4380\n",
            "Epoch 15/20\n",
            "\u001b[1m30/30\u001b[0m \u001b[32m━━━━━━━━━━━━━━━━━━━━\u001b[0m\u001b[37m\u001b[0m \u001b[1m2s\u001b[0m 50ms/step - accuracy: 0.9952 - loss: 0.0337 - val_accuracy: 0.8685 - val_loss: 0.4612\n",
            "Epoch 16/20\n",
            "\u001b[1m30/30\u001b[0m \u001b[32m━━━━━━━━━━━━━━━━━━━━\u001b[0m\u001b[37m\u001b[0m \u001b[1m3s\u001b[0m 65ms/step - accuracy: 0.9968 - loss: 0.0277 - val_accuracy: 0.8673 - val_loss: 0.4849\n",
            "Epoch 17/20\n",
            "\u001b[1m30/30\u001b[0m \u001b[32m━━━━━━━━━━━━━━━━━━━━\u001b[0m\u001b[37m\u001b[0m \u001b[1m2s\u001b[0m 39ms/step - accuracy: 0.9973 - loss: 0.0228 - val_accuracy: 0.8661 - val_loss: 0.5159\n",
            "Epoch 18/20\n",
            "\u001b[1m30/30\u001b[0m \u001b[32m━━━━━━━━━━━━━━━━━━━━\u001b[0m\u001b[37m\u001b[0m \u001b[1m2s\u001b[0m 54ms/step - accuracy: 0.9988 - loss: 0.0178 - val_accuracy: 0.8655 - val_loss: 0.5338\n",
            "Epoch 19/20\n",
            "\u001b[1m30/30\u001b[0m \u001b[32m━━━━━━━━━━━━━━━━━━━━\u001b[0m\u001b[37m\u001b[0m \u001b[1m1s\u001b[0m 40ms/step - accuracy: 0.9989 - loss: 0.0147 - val_accuracy: 0.8651 - val_loss: 0.5643\n",
            "Epoch 20/20\n",
            "\u001b[1m30/30\u001b[0m \u001b[32m━━━━━━━━━━━━━━━━━━━━\u001b[0m\u001b[37m\u001b[0m \u001b[1m1s\u001b[0m 44ms/step - accuracy: 0.9993 - loss: 0.0131 - val_accuracy: 0.8656 - val_loss: 0.5820\n"
          ]
        }
      ]
    },
    {
      "cell_type": "markdown",
      "source": [
        "The history = model.fit() returns a History object. This object has a member history, which is a dictionary containing data about everything that happened during training. Let's take a look at it:"
      ],
      "metadata": {
        "id": "lP6kq1__eQkD"
      }
    },
    {
      "cell_type": "code",
      "source": [
        "history_dict = history.history\n",
        "history_dict.keys()"
      ],
      "metadata": {
        "id": "GKDYJURLeiWb",
        "colab": {
          "base_uri": "https://localhost:8080/"
        },
        "outputId": "5f6ee084-8287-408d-f170-412f97abae8e"
      },
      "execution_count": null,
      "outputs": [
        {
          "output_type": "execute_result",
          "data": {
            "text/plain": [
              "dict_keys(['accuracy', 'loss', 'val_accuracy', 'val_loss'])"
            ]
          },
          "metadata": {},
          "execution_count": 10
        }
      ]
    },
    {
      "cell_type": "markdown",
      "source": [
        "It contains 4 entries: one per metric that was being monitored, during training and during validation. Please use Matplotlib to plot the training and validation loss side by side, as well as the training and validation accuracy."
      ],
      "metadata": {
        "id": "aqTmOUNWelLr"
      }
    },
    {
      "cell_type": "code",
      "source": [
        "history = model.history.history\n",
        "\n",
        "# Extract training and validation loss and accuracy\n",
        "training_loss = history['loss']\n",
        "validation_loss = history['val_loss']\n",
        "training_accuracy = history['accuracy']\n",
        "validation_accuracy = history['val_accuracy']\n",
        "\n",
        "plt.figure(figsize=(12, 4))\n",
        "\n",
        "# Plot training and validation loss\n",
        "plt.subplot(1, 2, 1)\n",
        "plt.plot(range(1, len(training_loss) + 1), training_loss, label='Training Loss')\n",
        "plt.plot(range(1, len(validation_loss) + 1), validation_loss, label='Validation Loss')\n",
        "plt.title('Training and Validation Loss')\n",
        "plt.xlabel('Epochs')\n",
        "plt.ylabel('Loss')\n",
        "plt.legend()\n",
        "\n",
        "# Plot training and validation accuracy\n",
        "plt.subplot(1, 2, 2)\n",
        "plt.plot(range(1, len(training_accuracy) + 1), training_accuracy, label='Training Accuracy')\n",
        "plt.plot(range(1, len(validation_accuracy) + 1), validation_accuracy, label='Validation Accuracy')\n",
        "plt.title('Training and Validation Accuracy')\n",
        "plt.xlabel('Epoch')\n",
        "plt.ylabel('Accuracy')\n",
        "plt.legend()\n",
        "\n",
        "plt.tight_layout()\n",
        "plt.show()"
      ],
      "metadata": {
        "id": "deZ3V5Txem5q",
        "colab": {
          "base_uri": "https://localhost:8080/",
          "height": 263
        },
        "outputId": "fe739b07-7ba8-42aa-dcfe-bb51e3fc16dc"
      },
      "execution_count": null,
      "outputs": [
        {
          "output_type": "display_data",
          "data": {
            "text/plain": [
              "<Figure size 1200x400 with 2 Axes>"
            ],
            "image/png": "[encoded data removed]"
          },
          "metadata": {}
        }
      ]
    },
    {
      "cell_type": "markdown",
      "source": [
        "As you can see, the training loss decreases with every epoch, and the training accuracy increases with every epoch. In precise terms, what you are seeing is “overfitting”: after the second epoch, we are over-optimizing on the training data, and we ended up learning representations that are specific to the training data and do not generalize to data outside of the training set.\n",
        "\n",
        "Please check how that model performs on the test set too!!"
      ],
      "metadata": {
        "id": "3CuhkJq2epNW"
      }
    },
    {
      "cell_type": "code",
      "source": [
        "test_loss, test_accuracy = model.evaluate(x_test, y_test)\n",
        "\n",
        "print(f'Test Loss: {test_loss:.4f}')\n",
        "print(f'Test Accuracy: {test_accuracy:.4f}')"
      ],
      "metadata": {
        "id": "gT4f0Ko9ewEI",
        "colab": {
          "base_uri": "https://localhost:8080/"
        },
        "outputId": "1dabef5b-16c8-419f-e447-bec129a24e36"
      },
      "execution_count": null,
      "outputs": [
        {
          "output_type": "stream",
          "name": "stdout",
          "text": [
            "\u001b[1m782/782\u001b[0m \u001b[32m━━━━━━━━━━━━━━━━━━━━\u001b[0m\u001b[37m\u001b[0m \u001b[1m3s\u001b[0m 4ms/step - accuracy: 0.8560 - loss: 0.5863\n",
            "Test Loss: 0.5817\n",
            "Test Accuracy: 0.8588\n"
          ]
        }
      ]
    },
    {
      "cell_type": "markdown",
      "source": [
        "## **Part 2 Hyperparameters**"
      ],
      "metadata": {
        "id": "sdNN6psbrVxy"
      }
    },
    {
      "cell_type": "markdown",
      "source": [
        "As we stated before, there is no ideal solution to each deep learning task. To decide how many layers to add or which activation functions use you need practice and usually a lot of trials and errors. Some people even say that implementing a neural network from scratch is more art than science."
      ],
      "metadata": {
        "id": "pEVsvB14xkH1"
      }
    },
    {
      "cell_type": "markdown",
      "source": [
        "#### **Parameter optimisation**\n",
        "\n",
        "Even then, after you decide what your model will look like, there is a matter of training, which also requires additional parameters. These numbers, that you already encountered, like a number of epochs, learning rate or optimizer are called hyperparameters. Training a neural network is basically an optimization problem, so you can think of setting those parameters as optimizing an optimization. It's not an easy task. There are, however, some tools that can help with that.\n"
      ],
      "metadata": {
        "id": "We2zupHvexz2"
      }
    },
    {
      "cell_type": "markdown",
      "source": [
        "#### **Callbacks**\n",
        "\n",
        "One of the simplest methods helpful in parameter selection is using Callbacks. These are basic functions that let you act on the model during training. They allow you to interrupt training to save a model, load a different weight set, or otherwise alter the state of the model. Here are some examples of ways you can use callbacks:\n",
        "\n",
        "- Model checkpointing - saving the current weights of the model at different points during training.\n",
        "- Early stopping - interrupting training when the validation loss is no longer improving (and of course, saving the best model obtained during training).\n",
        "- Dynamically adjusting the value of certain parameters during training - such as the learning rate of the optimizer.\n",
        "- Logging training and validation metrics during training, or visualizing the representations learned by the model as they’re updated.\n",
        "\n",
        "There are many default methods that you can explore in `keras.callbacks` such as `ModelCheckpoint`, `EarlyStopping` or `LearningRateScheduler`. However, one of the most useful things is that you can define your own callback and pass it to the model. So first, check if the desired functionality is available in Keras and if it isn't write it yourself.\n",
        "\n",
        "To do so, you can use functions that trigger when certain action occurs:\n",
        "\n",
        "- `on_epoch_begin`\n",
        "- `on_epoch_end`\n",
        "- `on_batch_begin`\n",
        "- `on_batch_end`\n",
        "- `on_train_begin`\n",
        "- `on_train_end`\n",
        "\n",
        "You can define function behavior after the trigger. In an example below, we check after each epoch if the training accuracy reaches a certain threshold (in this case 90%). If it does, we stop training. This is a useful method to decide on a number of epochs and avoid overfitting. You can read more about callbacks in [Keras Callbacks Documentation](https://keras.io/api/callbacks).\n"
      ],
      "metadata": {
        "id": "dkk70QfAzMJL"
      }
    },
    {
      "cell_type": "markdown",
      "source": [
        "First, you need to define a callback class:"
      ],
      "metadata": {
        "id": "r68q7MRkyrMX"
      }
    },
    {
      "cell_type": "code",
      "source": [
        "class myCallback(tf.keras.callbacks.Callback):\n",
        "  def on_epoch_end(self, epoch, logs={}):\n",
        "    if(logs.get('accuracy')>0.9):\n",
        "      print(\"\\nReached 90% accuracy so cancelling training!\")\n",
        "      self.model.stop_training = True"
      ],
      "metadata": {
        "id": "i_FG-9UofrLx"
      },
      "execution_count": null,
      "outputs": []
    },
    {
      "cell_type": "markdown",
      "source": [
        "Then create a callback instance and pass it as an argument when using `.fit()` or `.fit_generator()`:"
      ],
      "metadata": {
        "id": "yom0k7LefsW1"
      }
    },
    {
      "cell_type": "code",
      "source": [
        "callbacks = myCallback()\n",
        "\n",
        "model.fit(x_train, y_train, epochs=10, callbacks=[callbacks])"
      ],
      "metadata": {
        "id": "BK3MhDbvfx1L",
        "colab": {
          "base_uri": "https://localhost:8080/"
        },
        "outputId": "23afefbf-2b19-4f04-859c-61f7ca890e50"
      },
      "execution_count": null,
      "outputs": [
        {
          "output_type": "stream",
          "name": "stdout",
          "text": [
            "Epoch 1/10\n",
            "\u001b[1m467/469\u001b[0m \u001b[32m━━━━━━━━━━━━━━━━━━━\u001b[0m\u001b[37m━\u001b[0m \u001b[1m0s\u001b[0m 7ms/step - accuracy: 0.9975 - loss: 0.0150\n",
            "Reached 90% accuracy so cancelling training!\n",
            "\u001b[1m469/469\u001b[0m \u001b[32m━━━━━━━━━━━━━━━━━━━━\u001b[0m\u001b[37m\u001b[0m \u001b[1m3s\u001b[0m 7ms/step - accuracy: 0.9975 - loss: 0.0150\n"
          ]
        },
        {
          "output_type": "execute_result",
          "data": {
            "text/plain": [
              "<keras.src.callbacks.history.History at 0x7ec0d2dbcf70>"
            ]
          },
          "metadata": {},
          "execution_count": 14
        }
      ]
    },
    {
      "cell_type": "markdown",
      "source": [
        "#### **Optimisation algorithms from sklearn**"
      ],
      "metadata": {
        "id": "XZoNP6zszAVT"
      }
    },
    {
      "cell_type": "markdown",
      "source": [
        "\n",
        "\n",
        "There are various algorithms that automatically set different parameters, run training, and repeat the process. For example, the Scikit-Learn library provides [Grid Search Method](https://scikit-learn.org/stable/modules/generated/sklearn.model_selection.GridSearchCV.html) or [Random Search Method](https://scikit-learn.org/stable/modules/generated/sklearn.model_selection.RandomizedSearchCV.html). You can read more about them in the documentation. More sophisticated methods, like genetic algorithms or particle swarm optimization, are sometimes used too."
      ],
      "metadata": {
        "id": "AIrdBBC9fych"
      }
    },
    {
      "cell_type": "markdown",
      "source": [
        "Current task is to use Grid Search Optimisation algorithm to optimise one of the networks from previous weeks. Choose two parameters (for example number of epochs and batch size) and try two different values for each parameter. Grid Search method will therefore create a mesh of these parameters, with four elements (2×2). This process will take more time and computation power, as it will basically train the model four times and compare results. If you don't have a good computer it is best to try it on simple mnist or imdb classification."
      ],
      "metadata": {
        "id": "ymfQA4XmzsOr"
      }
    },
    {
      "cell_type": "code",
      "source": [
        "def create_model():\n",
        "    network = models.Sequential()\n",
        "\n",
        "    network.add(layers.Dense(units=16, activation='relu', input_shape=(10000,)))\n",
        "    network.add(layers.Dense(units=16, activation='relu'))\n",
        "    network.add(layers.Dense(units=1, activation='sigmoid'))\n",
        "\n",
        "    network.compile(optimizer='adam',\n",
        "                    loss='binary_crossentropy',\n",
        "                    metrics=['accuracy'])\n",
        "    return network\n",
        "\n",
        "model = KerasClassifier(build_fn=create_model)\n",
        "\n",
        "# Define grid search parameters\n",
        "par1_batch = [32, 64]\n",
        "par2_epoch = [3, 5]\n",
        "\n",
        "param_grid = dict(batch_size=par1_batch,\n",
        "                  epochs=par2_epoch\n",
        "                  )\n",
        "\n",
        "grid = GridSearchCV(estimator=model,\n",
        "                    param_grid=param_grid,\n",
        "                    cv = 3\n",
        "                    )\n",
        "\n",
        "# grid_results = grid.fit(X,Y)\n",
        "grid_results = grid.fit(x_train,y_train)\n",
        "\n",
        "# Print best results\n",
        "print(\"Best: %f using %s\" % (grid_results.best_score_, grid_results.best_params_))\n"
      ],
      "metadata": {
        "id": "50n7prSpf89D",
        "colab": {
          "base_uri": "https://localhost:8080/"
        },
        "outputId": "f908db79-ffe5-49b9-cc02-5311b560f5e2"
      },
      "execution_count": null,
      "outputs": [
        {
          "output_type": "stream",
          "name": "stderr",
          "text": [
            "/usr/local/lib/python3.10/dist-packages/scikeras/wrappers.py:925: UserWarning: ``build_fn`` will be renamed to ``model`` in a future release, at which point use of ``build_fn`` will raise an Error instead.\n",
            "  X, y = self._initialize(X, y)\n",
            "/usr/local/lib/python3.10/dist-packages/keras/src/layers/core/dense.py:87: UserWarning: Do not pass an `input_shape`/`input_dim` argument to a layer. When using Sequential models, prefer using an `Input(shape)` object as the first layer in the model instead.\n",
            "  super().__init__(activity_regularizer=activity_regularizer, **kwargs)\n"
          ]
        },
        {
          "output_type": "stream",
          "name": "stdout",
          "text": [
            "Epoch 1/3\n",
            "\u001b[1m313/313\u001b[0m \u001b[32m━━━━━━━━━━━━━━━━━━━━\u001b[0m\u001b[37m\u001b[0m \u001b[1m3s\u001b[0m 6ms/step - accuracy: 0.7663 - loss: 0.5023\n",
            "Epoch 2/3\n",
            "\u001b[1m313/313\u001b[0m \u001b[32m━━━━━━━━━━━━━━━━━━━━\u001b[0m\u001b[37m\u001b[0m \u001b[1m3s\u001b[0m 6ms/step - accuracy: 0.9441 - loss: 0.1601\n",
            "Epoch 3/3\n",
            "\u001b[1m313/313\u001b[0m \u001b[32m━━━━━━━━━━━━━━━━━━━━\u001b[0m\u001b[37m\u001b[0m \u001b[1m4s\u001b[0m 11ms/step - accuracy: 0.9773 - loss: 0.0813\n",
            "\u001b[1m157/157\u001b[0m \u001b[32m━━━━━━━━━━━━━━━━━━━━\u001b[0m\u001b[37m\u001b[0m \u001b[1m1s\u001b[0m 3ms/step\n"
          ]
        },
        {
          "output_type": "stream",
          "name": "stderr",
          "text": [
            "/usr/local/lib/python3.10/dist-packages/scikeras/wrappers.py:925: UserWarning: ``build_fn`` will be renamed to ``model`` in a future release, at which point use of ``build_fn`` will raise an Error instead.\n",
            "  X, y = self._initialize(X, y)\n",
            "/usr/local/lib/python3.10/dist-packages/keras/src/layers/core/dense.py:87: UserWarning: Do not pass an `input_shape`/`input_dim` argument to a layer. When using Sequential models, prefer using an `Input(shape)` object as the first layer in the model instead.\n",
            "  super().__init__(activity_regularizer=activity_regularizer, **kwargs)\n"
          ]
        },
        {
          "output_type": "stream",
          "name": "stdout",
          "text": [
            "Epoch 1/3\n",
            "\u001b[1m313/313\u001b[0m \u001b[32m━━━━━━━━━━━━━━━━━━━━\u001b[0m\u001b[37m\u001b[0m \u001b[1m3s\u001b[0m 6ms/step - accuracy: 0.7725 - loss: 0.4920\n",
            "Epoch 2/3\n",
            "\u001b[1m313/313\u001b[0m \u001b[32m━━━━━━━━━━━━━━━━━━━━\u001b[0m\u001b[37m\u001b[0m \u001b[1m3s\u001b[0m 7ms/step - accuracy: 0.9514 - loss: 0.1529\n",
            "Epoch 3/3\n",
            "\u001b[1m313/313\u001b[0m \u001b[32m━━━━━━━━━━━━━━━━━━━━\u001b[0m\u001b[37m\u001b[0m \u001b[1m3s\u001b[0m 10ms/step - accuracy: 0.9773 - loss: 0.0755\n",
            "\u001b[1m157/157\u001b[0m \u001b[32m━━━━━━━━━━━━━━━━━━━━\u001b[0m\u001b[37m\u001b[0m \u001b[1m0s\u001b[0m 2ms/step\n"
          ]
        },
        {
          "output_type": "stream",
          "name": "stderr",
          "text": [
            "/usr/local/lib/python3.10/dist-packages/scikeras/wrappers.py:925: UserWarning: ``build_fn`` will be renamed to ``model`` in a future release, at which point use of ``build_fn`` will raise an Error instead.\n",
            "  X, y = self._initialize(X, y)\n",
            "/usr/local/lib/python3.10/dist-packages/keras/src/layers/core/dense.py:87: UserWarning: Do not pass an `input_shape`/`input_dim` argument to a layer. When using Sequential models, prefer using an `Input(shape)` object as the first layer in the model instead.\n",
            "  super().__init__(activity_regularizer=activity_regularizer, **kwargs)\n"
          ]
        },
        {
          "output_type": "stream",
          "name": "stdout",
          "text": [
            "Epoch 1/3\n",
            "\u001b[1m313/313\u001b[0m \u001b[32m━━━━━━━━━━━━━━━━━━━━\u001b[0m\u001b[37m\u001b[0m \u001b[1m3s\u001b[0m 6ms/step - accuracy: 0.7682 - loss: 0.5032\n",
            "Epoch 2/3\n",
            "\u001b[1m313/313\u001b[0m \u001b[32m━━━━━━━━━━━━━━━━━━━━\u001b[0m\u001b[37m\u001b[0m \u001b[1m2s\u001b[0m 6ms/step - accuracy: 0.9502 - loss: 0.1548\n",
            "Epoch 3/3\n",
            "\u001b[1m313/313\u001b[0m \u001b[32m━━━━━━━━━━━━━━━━━━━━\u001b[0m\u001b[37m\u001b[0m \u001b[1m2s\u001b[0m 5ms/step - accuracy: 0.9789 - loss: 0.0759\n",
            "\u001b[1m157/157\u001b[0m \u001b[32m━━━━━━━━━━━━━━━━━━━━\u001b[0m\u001b[37m\u001b[0m \u001b[1m1s\u001b[0m 4ms/step\n"
          ]
        },
        {
          "output_type": "stream",
          "name": "stderr",
          "text": [
            "/usr/local/lib/python3.10/dist-packages/scikeras/wrappers.py:925: UserWarning: ``build_fn`` will be renamed to ``model`` in a future release, at which point use of ``build_fn`` will raise an Error instead.\n",
            "  X, y = self._initialize(X, y)\n",
            "/usr/local/lib/python3.10/dist-packages/keras/src/layers/core/dense.py:87: UserWarning: Do not pass an `input_shape`/`input_dim` argument to a layer. When using Sequential models, prefer using an `Input(shape)` object as the first layer in the model instead.\n",
            "  super().__init__(activity_regularizer=activity_regularizer, **kwargs)\n"
          ]
        },
        {
          "output_type": "stream",
          "name": "stdout",
          "text": [
            "Epoch 1/5\n",
            "\u001b[1m313/313\u001b[0m \u001b[32m━━━━━━━━━━━━━━━━━━━━\u001b[0m\u001b[37m\u001b[0m \u001b[1m4s\u001b[0m 8ms/step - accuracy: 0.6760 - loss: 0.5788\n",
            "Epoch 2/5\n",
            "\u001b[1m313/313\u001b[0m \u001b[32m━━━━━━━━━━━━━━━━━━━━\u001b[0m\u001b[37m\u001b[0m \u001b[1m2s\u001b[0m 6ms/step - accuracy: 0.9373 - loss: 0.1823\n",
            "Epoch 3/5\n",
            "\u001b[1m313/313\u001b[0m \u001b[32m━━━━━━━━━━━━━━━━━━━━\u001b[0m\u001b[37m\u001b[0m \u001b[1m2s\u001b[0m 6ms/step - accuracy: 0.9739 - loss: 0.0914\n",
            "Epoch 4/5\n",
            "\u001b[1m313/313\u001b[0m \u001b[32m━━━━━━━━━━━━━━━━━━━━\u001b[0m\u001b[37m\u001b[0m \u001b[1m3s\u001b[0m 9ms/step - accuracy: 0.9921 - loss: 0.0368\n",
            "Epoch 5/5\n",
            "\u001b[1m313/313\u001b[0m \u001b[32m━━━━━━━━━━━━━━━━━━━━\u001b[0m\u001b[37m\u001b[0m \u001b[1m4s\u001b[0m 6ms/step - accuracy: 0.9973 - loss: 0.0156\n",
            "\u001b[1m157/157\u001b[0m \u001b[32m━━━━━━━━━━━━━━━━━━━━\u001b[0m\u001b[37m\u001b[0m \u001b[1m1s\u001b[0m 3ms/step\n"
          ]
        },
        {
          "output_type": "stream",
          "name": "stderr",
          "text": [
            "/usr/local/lib/python3.10/dist-packages/scikeras/wrappers.py:925: UserWarning: ``build_fn`` will be renamed to ``model`` in a future release, at which point use of ``build_fn`` will raise an Error instead.\n",
            "  X, y = self._initialize(X, y)\n",
            "/usr/local/lib/python3.10/dist-packages/keras/src/layers/core/dense.py:87: UserWarning: Do not pass an `input_shape`/`input_dim` argument to a layer. When using Sequential models, prefer using an `Input(shape)` object as the first layer in the model instead.\n",
            "  super().__init__(activity_regularizer=activity_regularizer, **kwargs)\n"
          ]
        },
        {
          "output_type": "stream",
          "name": "stdout",
          "text": [
            "Epoch 1/5\n",
            "\u001b[1m313/313\u001b[0m \u001b[32m━━━━━━━━━━━━━━━━━━━━\u001b[0m\u001b[37m\u001b[0m \u001b[1m3s\u001b[0m 6ms/step - accuracy: 0.6928 - loss: 0.5267\n",
            "Epoch 2/5\n",
            "\u001b[1m313/313\u001b[0m \u001b[32m━━━━━━━━━━━━━━━━━━━━\u001b[0m\u001b[37m\u001b[0m \u001b[1m3s\u001b[0m 9ms/step - accuracy: 0.9487 - loss: 0.1560\n",
            "Epoch 3/5\n",
            "\u001b[1m313/313\u001b[0m \u001b[32m━━━━━━━━━━━━━━━━━━━━\u001b[0m\u001b[37m\u001b[0m \u001b[1m3s\u001b[0m 8ms/step - accuracy: 0.9768 - loss: 0.0827\n",
            "Epoch 4/5\n",
            "\u001b[1m313/313\u001b[0m \u001b[32m━━━━━━━━━━━━━━━━━━━━\u001b[0m\u001b[37m\u001b[0m \u001b[1m2s\u001b[0m 6ms/step - accuracy: 0.9931 - loss: 0.0341\n",
            "Epoch 5/5\n",
            "\u001b[1m313/313\u001b[0m \u001b[32m━━━━━━━━━━━━━━━━━━━━\u001b[0m\u001b[37m\u001b[0m \u001b[1m2s\u001b[0m 6ms/step - accuracy: 0.9987 - loss: 0.0130\n",
            "\u001b[1m157/157\u001b[0m \u001b[32m━━━━━━━━━━━━━━━━━━━━\u001b[0m\u001b[37m\u001b[0m \u001b[1m0s\u001b[0m 3ms/step\n"
          ]
        },
        {
          "output_type": "stream",
          "name": "stderr",
          "text": [
            "/usr/local/lib/python3.10/dist-packages/scikeras/wrappers.py:925: UserWarning: ``build_fn`` will be renamed to ``model`` in a future release, at which point use of ``build_fn`` will raise an Error instead.\n",
            "  X, y = self._initialize(X, y)\n",
            "/usr/local/lib/python3.10/dist-packages/keras/src/layers/core/dense.py:87: UserWarning: Do not pass an `input_shape`/`input_dim` argument to a layer. When using Sequential models, prefer using an `Input(shape)` object as the first layer in the model instead.\n",
            "  super().__init__(activity_regularizer=activity_regularizer, **kwargs)\n"
          ]
        },
        {
          "output_type": "stream",
          "name": "stdout",
          "text": [
            "Epoch 1/5\n",
            "\u001b[1m313/313\u001b[0m \u001b[32m━━━━━━━━━━━━━━━━━━━━\u001b[0m\u001b[37m\u001b[0m \u001b[1m3s\u001b[0m 6ms/step - accuracy: 0.7906 - loss: 0.4894\n",
            "Epoch 2/5\n",
            "\u001b[1m313/313\u001b[0m \u001b[32m━━━━━━━━━━━━━━━━━━━━\u001b[0m\u001b[37m\u001b[0m \u001b[1m3s\u001b[0m 9ms/step - accuracy: 0.9483 - loss: 0.1553\n",
            "Epoch 3/5\n",
            "\u001b[1m313/313\u001b[0m \u001b[32m━━━━━━━━━━━━━━━━━━━━\u001b[0m\u001b[37m\u001b[0m \u001b[1m2s\u001b[0m 6ms/step - accuracy: 0.9812 - loss: 0.0720\n",
            "Epoch 4/5\n",
            "\u001b[1m313/313\u001b[0m \u001b[32m━━━━━━━━━━━━━━━━━━━━\u001b[0m\u001b[37m\u001b[0m \u001b[1m2s\u001b[0m 6ms/step - accuracy: 0.9934 - loss: 0.0343\n",
            "Epoch 5/5\n",
            "\u001b[1m313/313\u001b[0m \u001b[32m━━━━━━━━━━━━━━━━━━━━\u001b[0m\u001b[37m\u001b[0m \u001b[1m2s\u001b[0m 7ms/step - accuracy: 0.9984 - loss: 0.0165\n",
            "\u001b[1m157/157\u001b[0m \u001b[32m━━━━━━━━━━━━━━━━━━━━\u001b[0m\u001b[37m\u001b[0m \u001b[1m0s\u001b[0m 2ms/step\n"
          ]
        },
        {
          "output_type": "stream",
          "name": "stderr",
          "text": [
            "/usr/local/lib/python3.10/dist-packages/scikeras/wrappers.py:925: UserWarning: ``build_fn`` will be renamed to ``model`` in a future release, at which point use of ``build_fn`` will raise an Error instead.\n",
            "  X, y = self._initialize(X, y)\n",
            "/usr/local/lib/python3.10/dist-packages/keras/src/layers/core/dense.py:87: UserWarning: Do not pass an `input_shape`/`input_dim` argument to a layer. When using Sequential models, prefer using an `Input(shape)` object as the first layer in the model instead.\n",
            "  super().__init__(activity_regularizer=activity_regularizer, **kwargs)\n"
          ]
        },
        {
          "output_type": "stream",
          "name": "stdout",
          "text": [
            "Epoch 1/3\n",
            "\u001b[1m157/157\u001b[0m \u001b[32m━━━━━━━━━━━━━━━━━━━━\u001b[0m\u001b[37m\u001b[0m \u001b[1m3s\u001b[0m 11ms/step - accuracy: 0.7770 - loss: 0.5271\n",
            "Epoch 2/3\n",
            "\u001b[1m157/157\u001b[0m \u001b[32m━━━━━━━━━━━━━━━━━━━━\u001b[0m\u001b[37m\u001b[0m \u001b[1m2s\u001b[0m 6ms/step - accuracy: 0.9448 - loss: 0.1704\n",
            "Epoch 3/3\n",
            "\u001b[1m157/157\u001b[0m \u001b[32m━━━━━━━━━━━━━━━━━━━━\u001b[0m\u001b[37m\u001b[0m \u001b[1m2s\u001b[0m 8ms/step - accuracy: 0.9769 - loss: 0.0865\n",
            "\u001b[1m79/79\u001b[0m \u001b[32m━━━━━━━━━━━━━━━━━━━━\u001b[0m\u001b[37m\u001b[0m \u001b[1m0s\u001b[0m 3ms/step\n"
          ]
        },
        {
          "output_type": "stream",
          "name": "stderr",
          "text": [
            "/usr/local/lib/python3.10/dist-packages/scikeras/wrappers.py:925: UserWarning: ``build_fn`` will be renamed to ``model`` in a future release, at which point use of ``build_fn`` will raise an Error instead.\n",
            "  X, y = self._initialize(X, y)\n",
            "/usr/local/lib/python3.10/dist-packages/keras/src/layers/core/dense.py:87: UserWarning: Do not pass an `input_shape`/`input_dim` argument to a layer. When using Sequential models, prefer using an `Input(shape)` object as the first layer in the model instead.\n",
            "  super().__init__(activity_regularizer=activity_regularizer, **kwargs)\n"
          ]
        },
        {
          "output_type": "stream",
          "name": "stdout",
          "text": [
            "Epoch 1/3\n",
            "\u001b[1m157/157\u001b[0m \u001b[32m━━━━━━━━━━━━━━━━━━━━\u001b[0m\u001b[37m\u001b[0m \u001b[1m2s\u001b[0m 8ms/step - accuracy: 0.7502 - loss: 0.5118\n",
            "Epoch 2/3\n",
            "\u001b[1m157/157\u001b[0m \u001b[32m━━━━━━━━━━━━━━━━━━━━\u001b[0m\u001b[37m\u001b[0m \u001b[1m1s\u001b[0m 8ms/step - accuracy: 0.9414 - loss: 0.1706\n",
            "Epoch 3/3\n",
            "\u001b[1m157/157\u001b[0m \u001b[32m━━━━━━━━━━━━━━━━━━━━\u001b[0m\u001b[37m\u001b[0m \u001b[1m3s\u001b[0m 11ms/step - accuracy: 0.9785 - loss: 0.0855\n",
            "\u001b[1m79/79\u001b[0m \u001b[32m━━━━━━━━━━━━━━━━━━━━\u001b[0m\u001b[37m\u001b[0m \u001b[1m1s\u001b[0m 7ms/step\n"
          ]
        },
        {
          "output_type": "stream",
          "name": "stderr",
          "text": [
            "/usr/local/lib/python3.10/dist-packages/scikeras/wrappers.py:925: UserWarning: ``build_fn`` will be renamed to ``model`` in a future release, at which point use of ``build_fn`` will raise an Error instead.\n",
            "  X, y = self._initialize(X, y)\n",
            "/usr/local/lib/python3.10/dist-packages/keras/src/layers/core/dense.py:87: UserWarning: Do not pass an `input_shape`/`input_dim` argument to a layer. When using Sequential models, prefer using an `Input(shape)` object as the first layer in the model instead.\n",
            "  super().__init__(activity_regularizer=activity_regularizer, **kwargs)\n"
          ]
        },
        {
          "output_type": "stream",
          "name": "stdout",
          "text": [
            "Epoch 1/3\n",
            "\u001b[1m157/157\u001b[0m \u001b[32m━━━━━━━━━━━━━━━━━━━━\u001b[0m\u001b[37m\u001b[0m \u001b[1m2s\u001b[0m 8ms/step - accuracy: 0.7505 - loss: 0.5349\n",
            "Epoch 2/3\n",
            "\u001b[1m157/157\u001b[0m \u001b[32m━━━━━━━━━━━━━━━━━━━━\u001b[0m\u001b[37m\u001b[0m \u001b[1m2s\u001b[0m 7ms/step - accuracy: 0.9463 - loss: 0.1685\n",
            "Epoch 3/3\n",
            "\u001b[1m157/157\u001b[0m \u001b[32m━━━━━━━━━━━━━━━━━━━━\u001b[0m\u001b[37m\u001b[0m \u001b[1m1s\u001b[0m 8ms/step - accuracy: 0.9804 - loss: 0.0800\n",
            "\u001b[1m79/79\u001b[0m \u001b[32m━━━━━━━━━━━━━━━━━━━━\u001b[0m\u001b[37m\u001b[0m \u001b[1m0s\u001b[0m 4ms/step\n"
          ]
        },
        {
          "output_type": "stream",
          "name": "stderr",
          "text": [
            "/usr/local/lib/python3.10/dist-packages/scikeras/wrappers.py:925: UserWarning: ``build_fn`` will be renamed to ``model`` in a future release, at which point use of ``build_fn`` will raise an Error instead.\n",
            "  X, y = self._initialize(X, y)\n",
            "/usr/local/lib/python3.10/dist-packages/keras/src/layers/core/dense.py:87: UserWarning: Do not pass an `input_shape`/`input_dim` argument to a layer. When using Sequential models, prefer using an `Input(shape)` object as the first layer in the model instead.\n",
            "  super().__init__(activity_regularizer=activity_regularizer, **kwargs)\n"
          ]
        },
        {
          "output_type": "stream",
          "name": "stdout",
          "text": [
            "Epoch 1/5\n",
            "\u001b[1m157/157\u001b[0m \u001b[32m━━━━━━━━━━━━━━━━━━━━\u001b[0m\u001b[37m\u001b[0m \u001b[1m3s\u001b[0m 6ms/step - accuracy: 0.7588 - loss: 0.5255\n",
            "Epoch 2/5\n",
            "\u001b[1m157/157\u001b[0m \u001b[32m━━━━━━━━━━━━━━━━━━━━\u001b[0m\u001b[37m\u001b[0m \u001b[1m2s\u001b[0m 8ms/step - accuracy: 0.9427 - loss: 0.1719\n",
            "Epoch 3/5\n",
            "\u001b[1m157/157\u001b[0m \u001b[32m━━━━━━━━━━━━━━━━━━━━\u001b[0m\u001b[37m\u001b[0m \u001b[1m3s\u001b[0m 8ms/step - accuracy: 0.9782 - loss: 0.0892\n",
            "Epoch 4/5\n",
            "\u001b[1m157/157\u001b[0m \u001b[32m━━━━━━━━━━━━━━━━━━━━\u001b[0m\u001b[37m\u001b[0m \u001b[1m1s\u001b[0m 7ms/step - accuracy: 0.9906 - loss: 0.0484\n",
            "Epoch 5/5\n",
            "\u001b[1m157/157\u001b[0m \u001b[32m━━━━━━━━━━━━━━━━━━━━\u001b[0m\u001b[37m\u001b[0m \u001b[1m1s\u001b[0m 7ms/step - accuracy: 0.9963 - loss: 0.0245\n",
            "\u001b[1m79/79\u001b[0m \u001b[32m━━━━━━━━━━━━━━━━━━━━\u001b[0m\u001b[37m\u001b[0m \u001b[1m0s\u001b[0m 4ms/step\n"
          ]
        },
        {
          "output_type": "stream",
          "name": "stderr",
          "text": [
            "/usr/local/lib/python3.10/dist-packages/scikeras/wrappers.py:925: UserWarning: ``build_fn`` will be renamed to ``model`` in a future release, at which point use of ``build_fn`` will raise an Error instead.\n",
            "  X, y = self._initialize(X, y)\n",
            "/usr/local/lib/python3.10/dist-packages/keras/src/layers/core/dense.py:87: UserWarning: Do not pass an `input_shape`/`input_dim` argument to a layer. When using Sequential models, prefer using an `Input(shape)` object as the first layer in the model instead.\n",
            "  super().__init__(activity_regularizer=activity_regularizer, **kwargs)\n"
          ]
        },
        {
          "output_type": "stream",
          "name": "stdout",
          "text": [
            "Epoch 1/5\n",
            "\u001b[1m157/157\u001b[0m \u001b[32m━━━━━━━━━━━━━━━━━━━━\u001b[0m\u001b[37m\u001b[0m \u001b[1m3s\u001b[0m 10ms/step - accuracy: 0.7557 - loss: 0.5263\n",
            "Epoch 2/5\n",
            "\u001b[1m157/157\u001b[0m \u001b[32m━━━━━━━━━━━━━━━━━━━━\u001b[0m\u001b[37m\u001b[0m \u001b[1m2s\u001b[0m 6ms/step - accuracy: 0.9461 - loss: 0.1698\n",
            "Epoch 3/5\n",
            "\u001b[1m157/157\u001b[0m \u001b[32m━━━━━━━━━━━━━━━━━━━━\u001b[0m\u001b[37m\u001b[0m \u001b[1m1s\u001b[0m 6ms/step - accuracy: 0.9762 - loss: 0.0869\n",
            "Epoch 4/5\n",
            "\u001b[1m157/157\u001b[0m \u001b[32m━━━━━━━━━━━━━━━━━━━━\u001b[0m\u001b[37m\u001b[0m \u001b[1m1s\u001b[0m 6ms/step - accuracy: 0.9918 - loss: 0.0432\n",
            "Epoch 5/5\n",
            "\u001b[1m157/157\u001b[0m \u001b[32m━━━━━━━━━━━━━━━━━━━━\u001b[0m\u001b[37m\u001b[0m \u001b[1m3s\u001b[0m 15ms/step - accuracy: 0.9980 - loss: 0.0167\n",
            "\u001b[1m79/79\u001b[0m \u001b[32m━━━━━━━━━━━━━━━━━━━━\u001b[0m\u001b[37m\u001b[0m \u001b[1m1s\u001b[0m 9ms/step\n"
          ]
        },
        {
          "output_type": "stream",
          "name": "stderr",
          "text": [
            "/usr/local/lib/python3.10/dist-packages/scikeras/wrappers.py:925: UserWarning: ``build_fn`` will be renamed to ``model`` in a future release, at which point use of ``build_fn`` will raise an Error instead.\n",
            "  X, y = self._initialize(X, y)\n",
            "/usr/local/lib/python3.10/dist-packages/keras/src/layers/core/dense.py:87: UserWarning: Do not pass an `input_shape`/`input_dim` argument to a layer. When using Sequential models, prefer using an `Input(shape)` object as the first layer in the model instead.\n",
            "  super().__init__(activity_regularizer=activity_regularizer, **kwargs)\n"
          ]
        },
        {
          "output_type": "stream",
          "name": "stdout",
          "text": [
            "Epoch 1/5\n",
            "\u001b[1m157/157\u001b[0m \u001b[32m━━━━━━━━━━━━━━━━━━━━\u001b[0m\u001b[37m\u001b[0m \u001b[1m5s\u001b[0m 15ms/step - accuracy: 0.7451 - loss: 0.5222\n",
            "Epoch 2/5\n",
            "\u001b[1m157/157\u001b[0m \u001b[32m━━━━━━━━━━━━━━━━━━━━\u001b[0m\u001b[37m\u001b[0m \u001b[1m2s\u001b[0m 14ms/step - accuracy: 0.9482 - loss: 0.1593\n",
            "Epoch 3/5\n",
            "\u001b[1m157/157\u001b[0m \u001b[32m━━━━━━━━━━━━━━━━━━━━\u001b[0m\u001b[37m\u001b[0m \u001b[1m2s\u001b[0m 13ms/step - accuracy: 0.9803 - loss: 0.0770\n",
            "Epoch 4/5\n",
            "\u001b[1m157/157\u001b[0m \u001b[32m━━━━━━━━━━━━━━━━━━━━\u001b[0m\u001b[37m\u001b[0m \u001b[1m3s\u001b[0m 18ms/step - accuracy: 0.9910 - loss: 0.0403\n",
            "Epoch 5/5\n",
            "\u001b[1m157/157\u001b[0m \u001b[32m━━━━━━━━━━━━━━━━━━━━\u001b[0m\u001b[37m\u001b[0m \u001b[1m4s\u001b[0m 14ms/step - accuracy: 0.9979 - loss: 0.0171\n",
            "\u001b[1m79/79\u001b[0m \u001b[32m━━━━━━━━━━━━━━━━━━━━\u001b[0m\u001b[37m\u001b[0m \u001b[1m1s\u001b[0m 8ms/step\n"
          ]
        },
        {
          "output_type": "stream",
          "name": "stderr",
          "text": [
            "/usr/local/lib/python3.10/dist-packages/scikeras/wrappers.py:925: UserWarning: ``build_fn`` will be renamed to ``model`` in a future release, at which point use of ``build_fn`` will raise an Error instead.\n",
            "  X, y = self._initialize(X, y)\n",
            "/usr/local/lib/python3.10/dist-packages/keras/src/layers/core/dense.py:87: UserWarning: Do not pass an `input_shape`/`input_dim` argument to a layer. When using Sequential models, prefer using an `Input(shape)` object as the first layer in the model instead.\n",
            "  super().__init__(activity_regularizer=activity_regularizer, **kwargs)\n"
          ]
        },
        {
          "output_type": "stream",
          "name": "stdout",
          "text": [
            "Epoch 1/3\n",
            "\u001b[1m235/235\u001b[0m \u001b[32m━━━━━━━━━━━━━━━━━━━━\u001b[0m\u001b[37m\u001b[0m \u001b[1m4s\u001b[0m 6ms/step - accuracy: 0.7584 - loss: 0.5012\n",
            "Epoch 2/3\n",
            "\u001b[1m235/235\u001b[0m \u001b[32m━━━━━━━━━━━━━━━━━━━━\u001b[0m\u001b[37m\u001b[0m \u001b[1m2s\u001b[0m 9ms/step - accuracy: 0.9412 - loss: 0.1790\n",
            "Epoch 3/3\n",
            "\u001b[1m235/235\u001b[0m \u001b[32m━━━━━━━━━━━━━━━━━━━━\u001b[0m\u001b[37m\u001b[0m \u001b[1m3s\u001b[0m 12ms/step - accuracy: 0.9676 - loss: 0.1078\n",
            "Best: 0.875200 using {'batch_size': 64, 'epochs': 3}\n"
          ]
        }
      ]
    },
    {
      "cell_type": "markdown",
      "source": [
        "#### **Optimisation algorithms from Keras**"
      ],
      "metadata": {
        "id": "HDPb8FGCf9c6"
      }
    },
    {
      "cell_type": "markdown",
      "source": [
        "One of the latest trends in Deep Learning (first introduced in 2019) is Keras Autotuner. Basically, it follows the same idea as the Scikit-Learn approach described above (Grid Search, Random Search or other) but is provided by Keras. If you want, you can try it instead of the above. However, you need to have `keras-tuner` installed, which requires `Python 3.6+` and `TensorFlow 2.0+`.\n",
        "\n",
        "- [Keras Tuner - Documentation](https://keras.io/keras_tuner/)\n",
        "- [Keras Tuner - Tutorial](https://keras.io/guides/keras_tuner/getting_started/)\n",
        "- [Keras Tuner - training parameters](https://github.com/keras-team/keras-tuner/issues/122)\n",
        "\n",
        "Wrap a model inside a function, with optimised parameters as arguments. In the example below we optimise the number of neurons in a Dense layer."
      ],
      "metadata": {
        "id": "cBPi8g9i0ubU"
      }
    },
    {
      "cell_type": "code",
      "source": [
        "# Define the parameterized model\n",
        "def build_model(hp):\n",
        "    network = models.Sequential()\n",
        "\n",
        "    # Use hp.Int to specify the number of units in the Dense layer, range from 16 to 64 with a step size of 16\n",
        "    network.add(layers.Dense(units=hp.Int('units', min_value=16, max_value=64, step=16), activation='relu', input_shape=(10000,)))\n",
        "    network.add(layers.Dense(1, activation='sigmoid'))\n",
        "\n",
        "    # Compile the model\n",
        "    network.compile(optimizer='adam',\n",
        "                    loss='binary_crossentropy',\n",
        "                    metrics=['accuracy'])\n",
        "\n",
        "    return network"
      ],
      "metadata": {
        "id": "Ahgsg3ZogwUX"
      },
      "execution_count": null,
      "outputs": []
    },
    {
      "cell_type": "markdown",
      "source": [
        "Set up a Random Search tuner (there are many different tuners available) with a model, objective function and max number of iterations. Then run search with all the parameters that you would normally pass to a `fit` funtion."
      ],
      "metadata": {
        "id": "QWw-3C6rgxjN"
      }
    },
    {
      "cell_type": "code",
      "source": [
        "# Set up Keras Tuner's RandomSearch\n",
        "tuner = keras_tuner.RandomSearch(\n",
        "    build_model,\n",
        "    objective='val_loss',\n",
        "    max_trials=5)\n",
        "\n",
        "# Run the hyperparameter search\n",
        "tuner.search(x_train, y_train, epochs=5, batch_size=128, validation_data=(x_val, y_val))\n",
        "\n",
        "# Get the model with the best hyperparameters\n",
        "best_model = tuner.get_best_models()[0]"
      ],
      "metadata": {
        "id": "fnoZExKtg6Wn",
        "colab": {
          "base_uri": "https://localhost:8080/"
        },
        "outputId": "c767eb73-ec4d-4351-c459-7e8183c7e8f2"
      },
      "execution_count": null,
      "outputs": [
        {
          "output_type": "stream",
          "name": "stdout",
          "text": [
            "Trial 4 Complete [00h 00m 18s]\n",
            "val_loss: 0.28599411249160767\n",
            "\n",
            "Best val_loss So Far: 0.28583475947380066\n",
            "Total elapsed time: 00h 01m 31s\n"
          ]
        },
        {
          "output_type": "stream",
          "name": "stderr",
          "text": [
            "/usr/local/lib/python3.10/dist-packages/keras/src/saving/saving_lib.py:713: UserWarning: Skipping variable loading for optimizer 'adam', because it has 2 variables whereas the saved optimizer has 10 variables. \n",
            "  saveable.load_own_variables(weights_store.get(inner_path))\n"
          ]
        }
      ]
    }
  ]
}